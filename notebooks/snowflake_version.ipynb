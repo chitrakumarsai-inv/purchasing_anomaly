{
 "cells": [
  {
   "cell_type": "code",
   "execution_count": 2,
   "metadata": {},
   "outputs": [],
   "source": [
    "# Snowpark Libs\n",
    "from snowflake.snowpark.version import VERSION\n",
    "from snowflake.snowpark.session import Session\n",
    "import snowflake.snowpark.functions as F\n",
    "import snowflake.snowpark.types as T\n",
    "from snowflake.snowpark.functions import col,to_date, udf\n",
    "# Data Science Libs\n",
    "import pandas as pd\n",
    "import os\n",
    "import dotenv\n",
    "from pathlib import Path\n",
    "from datetime import datetime\n",
    "import numpy as np\n",
    "import datetime\n",
    "import pandas as pd"
   ]
  },
  {
   "cell_type": "code",
   "execution_count": 4,
   "metadata": {},
   "outputs": [
    {
     "name": "stdout",
     "output_type": "stream",
     "text": [
      "Initiating login request with your identity provider. A browser window should have opened for you to complete the login. If you can't see it, check existing browser windows, or your OS settings. Press CTRL+C to abort and try again...\n",
      "Going to open: https://auth.kochid.com/idp/SSO.saml2?SAMLRequest=nZJNb%2BIwEIb%2FSuQ9x3aypVALqNKi7iL1I0voqtqbiQ14ceysxyGlv35NaKT20B56i5x3xo%2FnmfHlc6WjvXSgrJmgBFMUSVNaocxmgh6XN%2FEIReC5EVxbIyfoIAFdTsfAK12zrPFbs5D%2FGgk%2BCo0MsO7HBDXOMMtBATO8ksB8yYrs7palmLLaWW9Lq9Gbks8rOIB0PhD2JQJUwNt6XzNC2rbF7Xds3YaklFJCL0hIHSPf%2BvxzeNMH%2BYTQs2M%2BJEI8f2W7UuY0gs%2BwVqcQsJ%2FLZR7nD8USRVmPem0NNJV0hXR7VcrHxe0JAAKBMnsVhhoGIXADseTg4xTzFjAY264138nSVnXjQ3ccvshaCqLtRoUBzGcTVO%2BU4Oepza5GL2uh5jp7Wm1%2B3A1dsaGL%2FH4B2%2FTX34utOzRDs3rKShT97g2nR8NzgEbOzdGrD0c0HcQ0jelgmQwYTdjZOR4NB39QNAteleG%2Bq%2BzheZCOd7bcKtGxKVGTonjAR40pOq0G625w068%2BeEzednndtvsgYD7LrVblIbqxruL%2BYz8JTroTJeJ1F2Wy4kpnQjgJEDxpbdtrJ7kPS%2B1dIxGZnm59v9bT%2Fw%3D%3D&RelayState=ver%3A1-hint%3A759822674653786-ETMsDgAAAZTWoar7ABRBRVMvQ0JDL1BLQ1M1UGFkZGluZwEAABAAEApL3RISvQDPhOUeD5L%2Fhg0AAACgEnbzwARWxm7kuclAhqd%2FxLJcLPTLyx1C9eBgA37%2Bsxvp6xpLBJhzen%2F0f4ZlFyF8TRAtRFFu0wM8SDLozTE7HwoAyYkNnuldjWPGfIhOQocQU4tMn%2BM%2Fx6yTbitg%2BmexU2WOlUIJpzdsFGgw1Nd3bsWbZ6RS3fU1B0WZTlfEEb6a%2BgUZGgSz7xWmv3pJQrZEo3%2BdCl9ua0y4AnfORM1X%2BwAU23RwPB7bY9MvCBe5pcIKP5jqg6Y%3D to authenticate...\n"
     ]
    },
    {
     "name": "stderr",
     "output_type": "stream",
     "text": [
      "You might have more than one threads sharing the Session object trying to update sql_simplifier_enabled. Updating this while other tasks are running can potentially cause unexpected behavior. Please update the session configuration before starting the threads.\n"
     ]
    }
   ],
   "source": [
    "# Read config parser .ini file with your connection information\n",
    "\n",
    "Path = r\"/Users/chitrakumarsaichv/Library/CloudStorage/OneDrive-kochind.com/Desktop/Projects/purchasing_anomaly/.env\"\n",
    "dotenv.load_dotenv(Path)\n",
    "\n",
    "# SSO - KochID\n",
    "connection_parms = {\n",
    "    \"account\": os.getenv('account'),\n",
    "    \"user\": os.getenv('email'),\n",
    "    \"authenticator\": os.getenv('authenticator'),\n",
    "    \"database\": os.getenv('database'),\n",
    "    \"schema\": os.getenv('schema'),\n",
    "    \"warehouse\": os.getenv('warehouse'),\"role\": os.getenv('role')\n",
    "} \n",
    "\n",
    "connection_parms\n",
    "\n",
    "# Create Snowflake Session object\n",
    "session = Session.builder.configs(connection_parms).create()\n",
    "session.sql_simplifier_enabled = True\n",
    "\n",
    "snowflake_environment = session.sql('SELECT current_user(), current_version()').collect()\n",
    "snowpark_version = VERSION"
   ]
  },
  {
   "cell_type": "code",
   "execution_count": 5,
   "metadata": {},
   "outputs": [
    {
     "data": {
      "text/plain": [
       "{'account': 'invistaprod.us-east-2.aws',\n",
       " 'user': 'chitrakumarsai.chenurivenkata@invista.com',\n",
       " 'authenticator': 'externalbrowser',\n",
       " 'database': 'DS_D_WORKSPACE',\n",
       " 'schema': 'THIRD_PARTY_PATENT',\n",
       " 'warehouse': 'DS_D_TRAINING_WH',\n",
       " 'role': 'DS_D_SCIENTIST_FR'}"
      ]
     },
     "execution_count": 5,
     "metadata": {},
     "output_type": "execute_result"
    }
   ],
   "source": [
    "connection_parms"
   ]
  },
  {
   "cell_type": "code",
   "execution_count": 7,
   "metadata": {},
   "outputs": [],
   "source": [
    "# session.sql(\"CREATE SCHEMA IF NOT EXISTS PURCHASING_ANOMALY;\").collect()"
   ]
  },
  {
   "cell_type": "code",
   "execution_count": null,
   "metadata": {},
   "outputs": [],
   "source": []
  }
 ],
 "metadata": {
  "kernelspec": {
   "display_name": ".venv",
   "language": "python",
   "name": "python3"
  },
  "language_info": {
   "codemirror_mode": {
    "name": "ipython",
    "version": 3
   },
   "file_extension": ".py",
   "mimetype": "text/x-python",
   "name": "python",
   "nbconvert_exporter": "python",
   "pygments_lexer": "ipython3",
   "version": "3.13.1"
  }
 },
 "nbformat": 4,
 "nbformat_minor": 2
}
