{
 "cells": [
  {
   "cell_type": "code",
   "execution_count": null,
   "metadata": {},
   "outputs": [],
   "source": [
    "# Snowpark Libs\n",
    "from snowflake.snowpark.version import VERSION\n",
    "from snowflake.snowpark.session import Session\n",
    "import snowflake.snowpark.functions as F\n",
    "import snowflake.snowpark.types as T\n",
    "from snowflake.snowpark.functions import col,to_date, udf\n",
    "# Data Science Libs\n",
    "import pandas as pd\n",
    "import os\n",
    "import dotenv\n",
    "from pathlib import Path\n",
    "from datetime import datetime\n",
    "import numpy as np\n",
    "import datetime\n",
    "import pandas as pd"
   ]
  },
  {
   "cell_type": "code",
   "execution_count": 9,
   "metadata": {},
   "outputs": [],
   "source": [
    "# Read config parser .ini file with your connection information\n",
    "def connect_snowflake(Path: str) -> dict[str, str | None]:\n",
    "    # Load the .env\n",
    "    \"\"\" \n",
    "    Load the .env file with the connection parameters\n",
    "    \n",
    "    \"\"\"\n",
    "    # Path = r\"/Users/chitrakumarsaichv/Library/CloudStorage/OneDrive-kochind.com/Desktop/Projects/purchasing_anomaly/.env\"\n",
    "    dotenv.load_dotenv(Path)\n",
    "\n",
    "    # SSO - KochID\n",
    "    connection_parms = {\n",
    "        \"account\": os.getenv('account'),\n",
    "        \"user\": os.getenv('email'),\n",
    "        \"authenticator\": os.getenv('authenticator'),\n",
    "        \"database\": os.getenv('database'),\n",
    "        \"schema\": os.getenv('schema'),\n",
    "        \"warehouse\": os.getenv('warehouse'),\"role\": os.getenv('role')\n",
    "    } \n",
    "\n",
    "    connection_parms    \n",
    "\n",
    "    # Create Snowflake Session object\n",
    "    session = Session.builder.configs(connection_parms).create()\n",
    "    session.sql_simplifier_enabled = True\n",
    "\n",
    "    snowflake_environment = session.sql('SELECT current_user(), current_version()').collect()\n",
    "    snowpark_version = VERSION\n",
    "    \n",
    "    return connection_parms"
   ]
  },
  {
   "cell_type": "code",
   "execution_count": 10,
   "metadata": {},
   "outputs": [
    {
     "name": "stdout",
     "output_type": "stream",
     "text": [
      "Initiating login request with your identity provider. A browser window should have opened for you to complete the login. If you can't see it, check existing browser windows, or your OS settings. Press CTRL+C to abort and try again...\n",
      "Going to open: https://auth.kochid.com/idp/SSO.saml2?SAMLRequest=nZLBbuIwEIZfJfKeYzsBxK4FVBRaFYndRiXdQ29uPICFY2c9DilvvyYUqXtoD3uLnG%2FGv%2Bebyc1bbZIjeNTOTklGOUnAVk5pu5uS5%2FI%2B%2FU4SDNIqaZyFKTkBkpvZBGVtGjFvw94%2BwZ8WMCSxkUXR%2F5iS1lvhJGoUVtaAIlRiM%2F%2B5FjnlovEuuMoZ8qHk6wqJCD7EhNcShTrG24fQCMa6rqPdgDq%2FYznnnPEfLFJn5NuVf4tv%2BoTPGB%2Be%2BUhEvHjPdqvtZQRfxXq9QCgeyrJIi8dNSZL5NerCWWxr8BvwR13B89P6EgBjAm2POg41DkLRFlOQGNKcyg4pWtdtjTxA5eqmDbE7jV9sC4oZt9NxAKvllDQHrQbLUrpisXhV273Pt%2BWdOe3GSw8Pxdq%2FrMaj2zEsdnfj0fDgKpL8vhrOz4ZXiC2s7NlriEc8H6U8T%2FmozEYizwTP6XAwfiHJMnrVVoa%2B8hpeRuk0Nt1r1WfTqmGbzSM9a8zJZTVEf4Of%2Fe%2BDJ%2Bxjl%2Fdt%2BxUFrJaFM7o6JffO1zJ87iejWX%2BiVbrtUQG11GaulAfE6MkY1y08yBCXOvgWCJtdbv13rWd%2FAQ%3D%3D&RelayState=ver%3A1-hint%3A759822674653786-ETMsDgAAAZTWs0zlABRBRVMvQ0JDL1BLQ1M1UGFkZGluZwEAABAAEEMnsxExe8yc5pQE%2B45f0FYAAACgByw6JltTNoxS9xfXnmZVuK1SkSyKG01%2FY0k7Ar7ih6pcm2cdL5fCzeHsgzysYAUV8Ypl6TGsIl6XjrIiIHd42nay%2FsG%2FK1j7SHKuUzz7Mag1JRUnXyibr83WJ%2F3MWNOXRcrD%2BduDJ2NiqCpBgJLLKxqhiPo7vsshQGZcQhwiHng2P0b%2BVDbGnFs9LUGPbHKp%2F1S%2FZflmuOhZoPGMAlAeNQAU0iJPWC5qAUJ8bRd4uX3orOD4Bhw%3D to authenticate...\n"
     ]
    },
    {
     "name": "stderr",
     "output_type": "stream",
     "text": [
      "You might have more than one threads sharing the Session object trying to update sql_simplifier_enabled. Updating this while other tasks are running can potentially cause unexpected behavior. Please update the session configuration before starting the threads.\n"
     ]
    },
    {
     "data": {
      "text/plain": [
       "{'account': 'invistaprod.us-east-2.aws',\n",
       " 'user': 'chitrakumarsai.chenurivenkata@invista.com',\n",
       " 'authenticator': 'externalbrowser',\n",
       " 'database': 'DS_D_WORKSPACE',\n",
       " 'schema': 'THIRD_PARTY_PATENT',\n",
       " 'warehouse': 'DS_D_TRAINING_WH',\n",
       " 'role': 'DS_D_SCIENTIST_FR'}"
      ]
     },
     "execution_count": 10,
     "metadata": {},
     "output_type": "execute_result"
    }
   ],
   "source": [
    "connect_snowflake(\"/Users/chitrakumarsaichv/Library/CloudStorage/OneDrive-kochind.com/Desktop/Projects/purchasing_anomaly/.env\")"
   ]
  },
  {
   "cell_type": "code",
   "execution_count": 7,
   "metadata": {},
   "outputs": [],
   "source": [
    "# session.sql(\"CREATE SCHEMA IF NOT EXISTS PURCHASING_ANOMALY;\").collect()"
   ]
  },
  {
   "cell_type": "code",
   "execution_count": null,
   "metadata": {},
   "outputs": [],
   "source": []
  }
 ],
 "metadata": {
  "kernelspec": {
   "display_name": ".venv",
   "language": "python",
   "name": "python3"
  },
  "language_info": {
   "codemirror_mode": {
    "name": "ipython",
    "version": 3
   },
   "file_extension": ".py",
   "mimetype": "text/x-python",
   "name": "python",
   "nbconvert_exporter": "python",
   "pygments_lexer": "ipython3",
   "version": "3.13.1"
  }
 },
 "nbformat": 4,
 "nbformat_minor": 2
}
